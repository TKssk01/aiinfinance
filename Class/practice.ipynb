{
 "cells": [
  {
   "cell_type": "code",
   "execution_count": 1,
   "metadata": {},
   "outputs": [
    {
     "name": "stdout",
     "output_type": "stream",
     "text": [
      "This is an integer  5\n"
     ]
    }
   ],
   "source": [
    "integer_var = 5\n",
    "print(\"This is an integer \", integer_var)"
   ]
  },
  {
   "cell_type": "code",
   "execution_count": 2,
   "metadata": {},
   "outputs": [
    {
     "name": "stdout",
     "output_type": "stream",
     "text": [
      "This is an float  5.0\n"
     ]
    }
   ],
   "source": [
    "float_var = 5.0\n",
    "print(\"This is an float \", float_var)"
   ]
  },
  {
   "cell_type": "code",
   "execution_count": 3,
   "metadata": {},
   "outputs": [
    {
     "name": "stdout",
     "output_type": "stream",
     "text": [
      "This is an string  Hello World\n"
     ]
    }
   ],
   "source": [
    "string_var = \"Hello World\"\n",
    "print(\"This is an string \", string_var)"
   ]
  },
  {
   "cell_type": "code",
   "execution_count": 4,
   "metadata": {},
   "outputs": [
    {
     "name": "stdout",
     "output_type": "stream",
     "text": [
      "Total Balance:  120\n"
     ]
    }
   ],
   "source": [
    "balance_0 = 100\n",
    "balance_1 = 20\n",
    "debt = 10\n",
    "\n",
    "total_balance = balance_0 + balance_1\n",
    "print (\"Total Balance: \", total_balance)"
   ]
  },
  {
   "cell_type": "code",
   "execution_count": 5,
   "metadata": {},
   "outputs": [
    {
     "name": "stdout",
     "output_type": "stream",
     "text": [
      "Profit:  60\n"
     ]
    }
   ],
   "source": [
    "item_price = 10\n",
    "sales = 6\n",
    "\n",
    "profit = item_price * sales\n",
    "\n",
    "print(\"Profit: \", profit)"
   ]
  },
  {
   "cell_type": "code",
   "execution_count": null,
   "metadata": {},
   "outputs": [],
   "source": [
    "quota = 0.05\n",
    "customer_satisfaction = 4.7\n"
   ]
  }
 ],
 "metadata": {
  "kernelspec": {
   "display_name": "FinanceTradeEmvironment_p3119",
   "language": "python",
   "name": "python3"
  },
  "language_info": {
   "codemirror_mode": {
    "name": "ipython",
    "version": 3
   },
   "file_extension": ".py",
   "mimetype": "text/x-python",
   "name": "python",
   "nbconvert_exporter": "python",
   "pygments_lexer": "ipython3",
   "version": "3.11.9"
  }
 },
 "nbformat": 4,
 "nbformat_minor": 2
}
