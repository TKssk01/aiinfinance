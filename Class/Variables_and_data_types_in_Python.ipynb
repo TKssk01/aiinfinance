{
  "nbformat": 4,
  "nbformat_minor": 0,
  "metadata": {
    "colab": {
      "provenance": []
    },
    "kernelspec": {
      "name": "python3",
      "display_name": "Python 3"
    },
    "language_info": {
      "name": "python"
    }
  },
  "cells": [
    {
      "cell_type": "markdown",
      "source": [
        "# 1 Data Handling and Data Structures with Python\n",
        "\n",
        "### 1.1 Variables and Data Types in Python\n",
        "- Understanding Variables\n",
        "- Common Data Types (int, float, str, bool)\n",
        "\n",
        "### 1.2 Basic Operations with Variables\n",
        "- Arithmetic Operations\n",
        "- Comparison Operators\n",
        "- Logical Operators\n",
        "\n",
        "### 1.3 Loops and If Statements\n",
        "- If Statements\n",
        "- elif and else Statements\n",
        "- For Loops\n",
        "- While Loops\n",
        "\n",
        "### 1.4 Functions\n",
        "- Defining Functions\n",
        "- Function Parameters\n",
        "- Return Values\n",
        "- Function Calls\n",
        "\n",
        "### 1.5 Advanced Data Structures\n",
        "- Lists\n",
        "- Dictionaries"
      ],
      "metadata": {
        "id": "8XafLRmNkPPR"
      }
    },
    {
      "cell_type": "markdown",
      "source": [
        "##1.1 Variables and Data Types in Python\n"
      ],
      "metadata": {
        "id": "oAukMPoQhuz7"
      }
    },
    {
      "cell_type": "markdown",
      "source": [
        "# Variables in Python\n",
        "\n",
        "In Python, variables are containers that store data, which can change during the execution of a program. Each variable has a name that identifies it and a value representing the stored data; this name is arbitrary and can be chosen by the user. Before using a variable, we must define it and assign it a value.\n",
        "\n",
        "Variables in Python can contain various data types. The most common data types are:\n",
        "\n",
        "* **Integers (int):** Represent whole numbers, such as 1, 100, -5, etc.\n",
        "* **Floats (float):** Represent numbers with decimals, such as 3.14, -0.5, 2.0, etc.\n",
        "* **Strings (str):** Represent text, such as \"Hello world\", \"Python is great\", etc.\n",
        "* **Booleans (bool):** Represent truth values, `True` or `False`.\n",
        "\n",
        "It is important to mention that in Python, unlike other programming languages, technically all data types are objects."
      ],
      "metadata": {
        "id": "5UDzN9HEk4fE"
      }
    },
    {
      "cell_type": "code",
      "source": [
        "#@title Declaring Variables\n",
        "\n",
        "integer_var = 5\n",
        "print(\"This is an integer \", integer_var)"
      ],
      "metadata": {
        "colab": {
          "base_uri": "https://localhost:8080/"
        },
        "id": "clXsLniz9uJ1",
        "outputId": "37c713f8-b4a4-4be3-9ffb-d3014f42bbe9"
      },
      "execution_count": null,
      "outputs": [
        {
          "output_type": "stream",
          "name": "stdout",
          "text": [
            "This is an integer  5\n"
          ]
        }
      ]
    },
    {
      "cell_type": "code",
      "source": [
        "float_var = 5.0\n",
        "print(\"This is a float \", float_var)"
      ],
      "metadata": {
        "colab": {
          "base_uri": "https://localhost:8080/"
        },
        "id": "igHGpMXw5zl8",
        "outputId": "1b1d43c9-8abc-40f1-adf9-b6e890a0a977"
      },
      "execution_count": null,
      "outputs": [
        {
          "output_type": "stream",
          "name": "stdout",
          "text": [
            "This is a float  5.0\n"
          ]
        }
      ]
    },
    {
      "cell_type": "code",
      "source": [
        "string_var = \"Hello World!\"\n",
        "print(\"This is a string \", string_var)"
      ],
      "metadata": {
        "colab": {
          "base_uri": "https://localhost:8080/"
        },
        "id": "eMbohVhu592p",
        "outputId": "3d4afff7-2cce-43df-9cdb-4150df7ad19b"
      },
      "execution_count": null,
      "outputs": [
        {
          "output_type": "stream",
          "name": "stdout",
          "text": [
            "This is an string  Hello World!\n"
          ]
        }
      ]
    },
    {
      "cell_type": "code",
      "source": [
        "boolean_var = True\n",
        "print(\"This is a bool \", boolean_var)"
      ],
      "metadata": {
        "colab": {
          "base_uri": "https://localhost:8080/"
        },
        "id": "S05JpJz15_Gl",
        "outputId": "a1952118-2a5d-4f7d-80e2-e2fe40cbad48"
      },
      "execution_count": null,
      "outputs": [
        {
          "output_type": "stream",
          "name": "stdout",
          "text": [
            "This is an bool  True\n"
          ]
        }
      ]
    },
    {
      "cell_type": "markdown",
      "source": [
        "### 1.2 Basic Operations with Variables\n",
        "\n",
        "To assign a value to a variable, you first write the desired variable name followed by the value you want to assign to it.\n",
        "\n",
        "There are three fundamental types of basic operations with variables:\n",
        "\n",
        "* **Arithmetic Operations:** addition, subtraction, division, and multiplication\n",
        "* **Comparisons:** greater than, less than, and equality\n",
        "* **Logical Operators:** conjunction, disjunction, and negation"
      ],
      "metadata": {
        "id": "wOYcRB01lOUs"
      }
    },
    {
      "cell_type": "code",
      "execution_count": null,
      "metadata": {
        "id": "GSJPSLypkBdz"
      },
      "outputs": [],
      "source": [
        "#@title Example Arithmetic\n",
        "\n",
        "balance_0 = 100\n",
        "balance_1 = 20\n",
        "debt = 10"
      ]
    },
    {
      "cell_type": "code",
      "source": [
        "total_balance = balance_0 + balance_1\n",
        "print(\"Total balance:\", total_balance)"
      ],
      "metadata": {
        "colab": {
          "base_uri": "https://localhost:8080/"
        },
        "id": "RWvm0ywL6snl",
        "outputId": "7902a9f8-ceb9-4edf-80b0-ed45d2a9228c"
      },
      "execution_count": null,
      "outputs": [
        {
          "output_type": "stream",
          "name": "stdout",
          "text": [
            "Total balance: 120\n"
          ]
        }
      ]
    },
    {
      "cell_type": "code",
      "source": [
        "final_balance = total_balance - debt\n",
        "print(\"Final balance:\", final_balance)"
      ],
      "metadata": {
        "colab": {
          "base_uri": "https://localhost:8080/"
        },
        "id": "4TKveJl16uNi",
        "outputId": "9b00d95d-d031-4b44-8e23-6abc0ce2bb2a"
      },
      "execution_count": null,
      "outputs": [
        {
          "output_type": "stream",
          "name": "stdout",
          "text": [
            "Final balance: 110\n"
          ]
        }
      ]
    },
    {
      "cell_type": "code",
      "source": [
        "# You can just print the result if you are not interested in the format\n",
        "final_balance\n"
      ],
      "metadata": {
        "colab": {
          "base_uri": "https://localhost:8080/"
        },
        "id": "cXY1VDPH68Lm",
        "outputId": "f0f89d77-abe7-4c40-ea3d-791931fe2ae7"
      },
      "execution_count": null,
      "outputs": [
        {
          "output_type": "execute_result",
          "data": {
            "text/plain": [
              "110"
            ]
          },
          "metadata": {},
          "execution_count": 8
        }
      ]
    },
    {
      "cell_type": "code",
      "source": [
        "item_price = 10\n",
        "sales = 6\n",
        "\n",
        "profits = item_price * sales\n",
        "print(\"Profits:\", profits)"
      ],
      "metadata": {
        "colab": {
          "base_uri": "https://localhost:8080/"
        },
        "id": "KvrZuxUWmthC",
        "outputId": "8b211af9-accb-45af-a9d6-e84127a86436"
      },
      "execution_count": null,
      "outputs": [
        {
          "output_type": "stream",
          "name": "stdout",
          "text": [
            "Profits: 60\n"
          ]
        }
      ]
    },
    {
      "cell_type": "code",
      "source": [
        "#@title Comparisons and Logic Operators\n",
        "\n",
        "# Defining Variables\n",
        "quota = 0.85\n",
        "customer_satisfaction = 4.7"
      ],
      "metadata": {
        "id": "qUktQ4Zgl1vc"
      },
      "execution_count": null,
      "outputs": []
    },
    {
      "cell_type": "code",
      "source": [
        "# Logic Operators\n",
        "acceptable_quota = quota >= 0.8\n",
        "high_customer_satisfaction = customer_satisfaction >= 4.5"
      ],
      "metadata": {
        "id": "vM0oD3or7Dge"
      },
      "execution_count": null,
      "outputs": []
    },
    {
      "cell_type": "code",
      "source": [
        "# Sales Team Performance Evaluation\n",
        "acceptable_performance = acceptable_quota or high_customer_satisfaction\n",
        "acceptable_performance"
      ],
      "metadata": {
        "colab": {
          "base_uri": "https://localhost:8080/"
        },
        "id": "CpKwr41I7GSj",
        "outputId": "92c47c3d-02df-4087-d425-880fb3771ea2"
      },
      "execution_count": null,
      "outputs": [
        {
          "output_type": "execute_result",
          "data": {
            "text/plain": [
              "True"
            ]
          },
          "metadata": {},
          "execution_count": 19
        }
      ]
    },
    {
      "cell_type": "code",
      "source": [
        "# Printing Results in a nicer format\n",
        "print(\"Is Sales team performance acceptable?:\", acceptable_performance)"
      ],
      "metadata": {
        "colab": {
          "base_uri": "https://localhost:8080/"
        },
        "id": "2CD8GzVl7JoI",
        "outputId": "229ad5f1-0369-4864-e81c-8dc98a642050"
      },
      "execution_count": null,
      "outputs": [
        {
          "output_type": "stream",
          "name": "stdout",
          "text": [
            "Is Sales team performance acceptable?: True\n"
          ]
        }
      ]
    },
    {
      "cell_type": "markdown",
      "source": [
        "### 1.3 Loops and If Statement\n",
        "\n",
        "#### Conditionals\n",
        "* **If:** The if statement is used to execute a block of code if a specified condition is true.\n",
        "\n",
        "* **elif (else if):** Optionally, you can add one or more elif statements after an if statement to evaluate additional conditions. If the if condition is false but an elif condition is true, the corresponding block of code for that elif statement will be executed.\n",
        "\n",
        "* **else:** You can add an else statement at the end of a set of conditions to execute a block of code if none of the preceding conditions are true.\n",
        "\n",
        "#### Loops\n",
        "* **For Loop:** The for loop is used to iterate over a sequence of elements or a range. For each element in the sequence, a defined block of code within the loop is executed. The iteration continues until all elements of the sequence have been processed.\n",
        "\n",
        "* **While Loop:** The while loop is used to execute a block of code repeatedly as long as a specific condition is met. Before each execution of the block of code, the condition is evaluated. If the condition is true, the block of code is executed; if it's false, the loop exits. This means that the number of iterations may be unknown before the loop is executed."
      ],
      "metadata": {
        "id": "I7FpVEXrq_TG"
      }
    },
    {
      "cell_type": "code",
      "source": [
        "#@title If Example\n",
        "\n",
        "# Defining conditions\n",
        "is_sunny = False\n",
        "is_raining = True"
      ],
      "metadata": {
        "id": "SXM3w4jjr9kI"
      },
      "execution_count": null,
      "outputs": []
    },
    {
      "cell_type": "code",
      "source": [
        "# Conditional statements to check the weather conditions\n",
        "if is_sunny:\n",
        "  print(\"It's sunny outside!\") # If is_sunny is True, print this\n",
        "elif is_raining:\n",
        "  print(\"It's raining outside!\") # If is_sunny is False but is_raining is True, print this\n",
        "else:\n",
        "  print(\"Weather is unclear!\") # If neither is_sunny nor is_raining is True, print this"
      ],
      "metadata": {
        "colab": {
          "base_uri": "https://localhost:8080/"
        },
        "id": "RNnEE9-n7SG1",
        "outputId": "d1ea55d2-1356-4368-c0f5-995d7a190416"
      },
      "execution_count": null,
      "outputs": [
        {
          "output_type": "stream",
          "name": "stdout",
          "text": [
            "It's raining outside!\n"
          ]
        }
      ]
    },
    {
      "cell_type": "markdown",
      "source": [
        "You can now modify the different components and see how does the result change"
      ],
      "metadata": {
        "id": "Pg6w_kS-7UYY"
      }
    },
    {
      "cell_type": "code",
      "source": [
        "#@title Practical Examples of Loops\n",
        "\n",
        "# Variables\n",
        "capital = 1000  # Initial capital amount\n",
        "annual_interest_rate = 0.05  # Annual interest rate of 5%\n",
        "periods = 10  # Number of periods (years)"
      ],
      "metadata": {
        "id": "Ix7BGL3rsdss"
      },
      "execution_count": null,
      "outputs": []
    },
    {
      "cell_type": "code",
      "source": [
        "# Interest Example\n",
        "for period in range(1, periods + 1):\n",
        "  capital = capital * (1 + annual_interest_rate)  # Increase capital by the annual interest rate"
      ],
      "metadata": {
        "id": "BuhYyZm17aGU"
      },
      "execution_count": null,
      "outputs": []
    },
    {
      "cell_type": "code",
      "source": [
        "# Print the result\n",
        "print(\"Future value after {} years :\".format(periods), round(capital, 2))"
      ],
      "metadata": {
        "colab": {
          "base_uri": "https://localhost:8080/"
        },
        "id": "6qhUwZM67clS",
        "outputId": "e3aff717-a14e-40d2-caea-773d5b980d1d"
      },
      "execution_count": null,
      "outputs": [
        {
          "output_type": "stream",
          "name": "stdout",
          "text": [
            "Future value after 10 years: 1628.89\n"
          ]
        }
      ]
    },
    {
      "cell_type": "code",
      "source": [
        "# Variables\n",
        "final_capital = capital * 2\n",
        "time = 0"
      ],
      "metadata": {
        "id": "HsseiGPJs3Z0"
      },
      "execution_count": null,
      "outputs": []
    },
    {
      "cell_type": "code",
      "source": [
        "# Loop until the capital doubles\n",
        "while capital < final_capital:\n",
        "  capital = capital * (1 + annual_interest_rate)  # Increase capital by the annual interest rate\n",
        "  time += 1  # Increment time by 1 year"
      ],
      "metadata": {
        "id": "2SBM25r17fOh"
      },
      "execution_count": null,
      "outputs": []
    },
    {
      "cell_type": "code",
      "source": [
        "# Print the result\n",
        "print(\"The initial capital will double after {} years.\".format(time))"
      ],
      "metadata": {
        "colab": {
          "base_uri": "https://localhost:8080/"
        },
        "id": "Ql2X-ySI7gzQ",
        "outputId": "094241d2-5747-47b9-d4dc-3248bb246f56"
      },
      "execution_count": null,
      "outputs": [
        {
          "output_type": "stream",
          "name": "stdout",
          "text": [
            "The initial capital will double after 15 years.\n"
          ]
        }
      ]
    },
    {
      "cell_type": "markdown",
      "source": [
        "### 1.4 Functions\n",
        "\n",
        "Functions in Python are reusable blocks of code that perform a specific task. These functions can accept inputs, perform calculations based on those inputs, and return results. They provide a way to encapsulate logic and facilitate its reuse in different parts of a program.\n",
        "\n",
        "* **Function Definition:** To define a function in Python, we use the `def` keyword, followed by the function name and parentheses that can contain the function's input parameters. The body of the function is indented below the definition line."
      ],
      "metadata": {
        "id": "e5sX__u9tKNR"
      }
    },
    {
      "cell_type": "code",
      "source": [
        "def my_sum_function(param1, param2):\n",
        "    # Function body\n",
        "    result = param1 + param2\n",
        "    return result"
      ],
      "metadata": {
        "id": "6TkgcZ1lt_3T"
      },
      "execution_count": null,
      "outputs": []
    },
    {
      "cell_type": "markdown",
      "source": [
        "**Function calls:** Once a function is defined, we can call it anywhere in the program by providing the necessary arguments, if any. The function will execute with the provided input values and return the result, if defined by a return statement."
      ],
      "metadata": {
        "id": "b0ZiiA7LuDg2"
      }
    },
    {
      "cell_type": "code",
      "source": [
        "# We call the function and store the value in the variable 'result'\n",
        "result = my_sum_function(10, 20)\n",
        "print(result)"
      ],
      "metadata": {
        "colab": {
          "base_uri": "https://localhost:8080/"
        },
        "id": "uXg1H0uiuBPs",
        "outputId": "b15cd8ac-aea5-43c2-dc3f-87dd51db8315"
      },
      "execution_count": null,
      "outputs": [
        {
          "output_type": "stream",
          "name": "stdout",
          "text": [
            "30\n"
          ]
        }
      ]
    },
    {
      "cell_type": "markdown",
      "source": [
        "* **Function Parameters:** Functions can accept zero or more input parameters. These parameters are variables used within the function body to perform calculations or carry out specific actions.\n",
        "\n",
        "* **Return Values:** Functions can return values using the `return` statement. This allows a function to generate a result that can be utilized by the calling code.\n",
        "\n",
        "* **Code Reusability:** Functions enable the encapsulation of specific logic and its reuse in different parts of a program. This promotes modularity and facilitates code\n"
      ],
      "metadata": {
        "id": "nH2FD4XxuSg6"
      }
    },
    {
      "cell_type": "code",
      "source": [
        "#@title Practical Application\n",
        "def Compound_interest(initial_capital, annual_interest_rate, periods):\n",
        "    future_value = initial_capital * (1 + annual_interest_rate) ** periods\n",
        "    return future_value\n",
        "\n",
        "# The ** operator is used for exponentiation, raising (1 + annual_interest_rate) to the power of periods."
      ],
      "metadata": {
        "id": "jD3OJYYxuHmI"
      },
      "execution_count": null,
      "outputs": []
    },
    {
      "cell_type": "code",
      "source": [
        "initial_capital = 1000\n",
        "annual_interest_rate = 0.05\n",
        "periods = 10"
      ],
      "metadata": {
        "id": "oqbXAqs8S5hv"
      },
      "execution_count": null,
      "outputs": []
    },
    {
      "cell_type": "code",
      "source": [
        "future_value = Compound_interest(initial_capital,\n",
        "                                 annual_interest_rate, periods)\n",
        "print(\"The future value of the investment is:\", round(future_value, 2))"
      ],
      "metadata": {
        "colab": {
          "base_uri": "https://localhost:8080/"
        },
        "id": "KIi6PtlGS68c",
        "outputId": "8f844a35-13c1-4982-f972-6df0e5674121"
      },
      "execution_count": null,
      "outputs": [
        {
          "output_type": "stream",
          "name": "stdout",
          "text": [
            "The future value of the investment is: 1628.89\n"
          ]
        }
      ]
    },
    {
      "cell_type": "markdown",
      "source": [
        "### 1.5 Advanced data structures"
      ],
      "metadata": {
        "id": "mzO_z59oMPpd"
      }
    },
    {
      "cell_type": "markdown",
      "source": [
        "### Lists\n",
        "\n",
        "A list in Python is an ordered collection of items that can be of different types (integers, floats, strings, etc.).\n",
        "Lists are mutable, meaning you can modify their contents after they are created.\n",
        "Lists are defined by enclosing elements in square brackets [ ].\n",
        "\n",
        "Key Characteristics of Lists:\n",
        "\n",
        "* **Ordered:** The elements have a defined order, and that order will not change unless explicitly modified.\n",
        "* **Mutable:** You can change, add, or remove elements after the list is created.\n",
        "* **Indexed:** Elements can be accessed using their index, starting from 0."
      ],
      "metadata": {
        "id": "m9XtHhjMO6zB"
      }
    },
    {
      "cell_type": "code",
      "source": [
        "# Create a list\n",
        "portfolio = [\"TSLA\", \"BTC\", \"GOOG\"]"
      ],
      "metadata": {
        "id": "iU-k0fO3O6T-"
      },
      "execution_count": null,
      "outputs": []
    },
    {
      "cell_type": "code",
      "source": [
        "# Access elements by index\n",
        "portfolio[0]"
      ],
      "metadata": {
        "colab": {
          "base_uri": "https://localhost:8080/",
          "height": 36
        },
        "id": "ZphuGsOUPvaj",
        "outputId": "870ca1c6-e9b9-4575-f79a-3d934aae9e9d"
      },
      "execution_count": null,
      "outputs": [
        {
          "output_type": "execute_result",
          "data": {
            "text/plain": [
              "'TSLA'"
            ],
            "application/vnd.google.colaboratory.intrinsic+json": {
              "type": "string"
            }
          },
          "metadata": {},
          "execution_count": 28
        }
      ]
    },
    {
      "cell_type": "code",
      "source": [
        "# Select a range of elements using index\n",
        "portfolio[1:2]"
      ],
      "metadata": {
        "colab": {
          "base_uri": "https://localhost:8080/"
        },
        "id": "P9_AUlr6R7RM",
        "outputId": "4e269d29-ec71-40c9-e804-0f07dc4ccd53"
      },
      "execution_count": null,
      "outputs": [
        {
          "output_type": "execute_result",
          "data": {
            "text/plain": [
              "['BTC']"
            ]
          },
          "metadata": {},
          "execution_count": 29
        }
      ]
    },
    {
      "cell_type": "code",
      "source": [
        "# Select the last element\n",
        "portfolio[-1]"
      ],
      "metadata": {
        "colab": {
          "base_uri": "https://localhost:8080/",
          "height": 36
        },
        "id": "_yGi-D2cSDW1",
        "outputId": "19577363-917f-4091-d43d-63e86f0dd103"
      },
      "execution_count": null,
      "outputs": [
        {
          "output_type": "execute_result",
          "data": {
            "text/plain": [
              "'GOOG'"
            ],
            "application/vnd.google.colaboratory.intrinsic+json": {
              "type": "string"
            }
          },
          "metadata": {},
          "execution_count": 30
        }
      ]
    },
    {
      "cell_type": "code",
      "source": [
        "# Modifying elements\n",
        "portfolio[1] = \"META\"\n",
        "print(portfolio)"
      ],
      "metadata": {
        "colab": {
          "base_uri": "https://localhost:8080/"
        },
        "id": "FbYNaqgLP28S",
        "outputId": "f6fee1f1-fcaa-4fba-9bdc-28ed7311f153"
      },
      "execution_count": null,
      "outputs": [
        {
          "output_type": "stream",
          "name": "stdout",
          "text": [
            "['TSLA', 'META', 'GOOG']\n"
          ]
        }
      ]
    },
    {
      "cell_type": "code",
      "source": [
        "# Add elements\n",
        "portfolio.append(\"MSFT\")\n",
        "print(portfolio)"
      ],
      "metadata": {
        "colab": {
          "base_uri": "https://localhost:8080/"
        },
        "id": "N-fyQNqpP66z",
        "outputId": "c6af4077-4d17-48c3-c6b3-f1a0269090da"
      },
      "execution_count": null,
      "outputs": [
        {
          "output_type": "stream",
          "name": "stdout",
          "text": [
            "['TSLA', 'META', 'GOOG', 'MSFT']\n"
          ]
        }
      ]
    },
    {
      "cell_type": "code",
      "source": [
        "# Remove elements\n",
        "portfolio.remove(\"TSLA\")\n",
        "print(portfolio)"
      ],
      "metadata": {
        "colab": {
          "base_uri": "https://localhost:8080/"
        },
        "id": "w6l-Yjt1P97p",
        "outputId": "43cbfc03-28b1-4714-9eb3-8b6ef1aa0b39"
      },
      "execution_count": null,
      "outputs": [
        {
          "output_type": "stream",
          "name": "stdout",
          "text": [
            "['META', 'GOOG', 'MSFT']\n"
          ]
        }
      ]
    },
    {
      "cell_type": "markdown",
      "source": [
        "### List Comprehension\n",
        "\n",
        "List comprehension is a concise way to create lists in Python. It allows you to generate a new list by applying an expression to each element in an existing iterable (like a list, tuple, or string), optionally including a condition to filter elements. List comprehensions provide a more readable and expressive way to create lists compared to traditional loops.\n",
        "\n",
        "The basic syntax for list comprehension is:\n",
        "\n",
        "`[expression for item in iterable if condition]`\n",
        "\n",
        "* **expression:** The expression to evaluate for each item in the iterable.\n",
        "* **item:** The current item from the iterable.\n",
        "* **iterable:** The collection of items to iterate over.\n",
        "* **condition (optional):** A filtering condition that each item must satisfy to be included in the new list.\n"
      ],
      "metadata": {
        "id": "vcivVvg57n1D"
      }
    },
    {
      "cell_type": "code",
      "source": [
        "#@title List comprehension for loop\n",
        "\n",
        "squares = [x**2 for x in range(10)]\n",
        "print(squares)"
      ],
      "metadata": {
        "colab": {
          "base_uri": "https://localhost:8080/"
        },
        "id": "193tlJty7dZ7",
        "outputId": "c94da6c7-61d2-4301-d2fb-fe60ea188515"
      },
      "execution_count": null,
      "outputs": [
        {
          "output_type": "stream",
          "name": "stdout",
          "text": [
            "[0, 1, 4, 9, 16, 25, 36, 49, 64, 81]\n"
          ]
        }
      ]
    },
    {
      "cell_type": "code",
      "source": [
        "#@title List comprehension with conditions\n",
        "\n",
        "evens = [x for x in range(10) if x % 2 == 0]\n",
        "print(evens)"
      ],
      "metadata": {
        "colab": {
          "base_uri": "https://localhost:8080/"
        },
        "id": "YFK7m7GN8Gmp",
        "outputId": "93567c27-d8ba-49bd-9aa6-05c005875204"
      },
      "execution_count": null,
      "outputs": [
        {
          "output_type": "stream",
          "name": "stdout",
          "text": [
            "[0, 2, 4, 6, 8]\n"
          ]
        }
      ]
    },
    {
      "cell_type": "markdown",
      "source": [
        "### Dictionaries\n",
        "\n",
        "A dictionary in Python is an unordered collection of items where each item is a pair of keys and values. Dictionaries are mutable, meaning their contents can be changed after they are created. Dictionaries are defined by enclosing key-value pairs in curly braces {}, with a colon : separating keys and values.\n",
        "\n",
        "Key Characteristics of Dictionaries:\n",
        "\n",
        "* **Unordered:** The elements do not have a defined order. The order of elements might change when adding or removing items.\n",
        "* **Mutable:** You can change, add, or remove key-value pairs after the dictionary is created.\n",
        "* **Key-Value Pairs:** Each key is unique within a dictionary and is used to access the corresponding value."
      ],
      "metadata": {
        "id": "bLe9y0OpQ9N9"
      }
    },
    {
      "cell_type": "code",
      "source": [
        "# Create a dictionary\n",
        "customer = {\n",
        "    \"name\": \"Alice\",\n",
        "    \"age\": 24,\n",
        "    \"products\": [\"headlamp\", \"camping tent\"]\n",
        "}\n",
        "\n",
        "print(customer)"
      ],
      "metadata": {
        "colab": {
          "base_uri": "https://localhost:8080/"
        },
        "id": "E3Y0EzLCRFEU",
        "outputId": "b5fb8c6f-f3af-455c-8a4d-c90e1487553d"
      },
      "execution_count": null,
      "outputs": [
        {
          "output_type": "stream",
          "name": "stdout",
          "text": [
            "{'name': 'Alice', 'age': 24, 'products': ['headlamp', 'camping tent']}\n"
          ]
        }
      ]
    },
    {
      "cell_type": "code",
      "source": [
        "# Access values by key\n",
        "print(customer[\"name\"])"
      ],
      "metadata": {
        "colab": {
          "base_uri": "https://localhost:8080/"
        },
        "id": "nCSgVmPUSUw8",
        "outputId": "e9d9f4c2-a073-40d7-9d95-87aecee24941"
      },
      "execution_count": null,
      "outputs": [
        {
          "output_type": "stream",
          "name": "stdout",
          "text": [
            "Alice\n"
          ]
        }
      ]
    },
    {
      "cell_type": "code",
      "source": [
        "# Modify Values\n",
        "customer[\"age\"] = 25\n",
        "print(customer)"
      ],
      "metadata": {
        "colab": {
          "base_uri": "https://localhost:8080/"
        },
        "id": "PrHa0bv8SWeV",
        "outputId": "c66a7a82-96f4-4209-9393-06429284c21e"
      },
      "execution_count": null,
      "outputs": [
        {
          "output_type": "stream",
          "name": "stdout",
          "text": [
            "{'name': 'Alice', 'age': 25, 'products': ['headlamp', 'camping tent']}\n"
          ]
        }
      ]
    },
    {
      "cell_type": "code",
      "source": [
        "# Add new key and value pair\n",
        "customer[\"price\"] = 35\n",
        "print(customer)"
      ],
      "metadata": {
        "colab": {
          "base_uri": "https://localhost:8080/"
        },
        "id": "bQ5Pz9-cSaGY",
        "outputId": "a1a2b5c6-6c8c-48e2-8413-401af1a5dde4"
      },
      "execution_count": null,
      "outputs": [
        {
          "output_type": "stream",
          "name": "stdout",
          "text": [
            "{'name': 'Alice', 'age': 25, 'products': ['headlamp', 'camping tent'], 'price': 35}\n"
          ]
        }
      ]
    },
    {
      "cell_type": "code",
      "source": [
        "# Remove key-value pairs\n",
        "del customer['products']\n",
        "print(customer)"
      ],
      "metadata": {
        "colab": {
          "base_uri": "https://localhost:8080/"
        },
        "id": "HQ-rxERwSx2p",
        "outputId": "25ee8cac-2e6d-476c-e541-3c8f36d5815c"
      },
      "execution_count": null,
      "outputs": [
        {
          "output_type": "stream",
          "name": "stdout",
          "text": [
            "{'name': 'Alice', 'age': 25, 'price': 35}\n"
          ]
        }
      ]
    },
    {
      "cell_type": "markdown",
      "source": [
        "# Exercise: Portfolio Value Simulation\n",
        "\n",
        "\n"
      ],
      "metadata": {
        "id": "j_E8NWTXBWgQ"
      }
    },
    {
      "cell_type": "markdown",
      "source": [
        "Imagine you are given the daily value of a stock price in a list.\n",
        "\n",
        "Given an initial investment and a number of days, calculate the portfolio returns."
      ],
      "metadata": {
        "id": "nmhpZeV4UkPA"
      }
    },
    {
      "cell_type": "markdown",
      "source": [
        "First, we are going to use the random module to simulate the stock price growth rate over a certain period of days.\n",
        "\n",
        "Use random.uniform(lower_bound, upper_bound) to create a random number using a uniform distribution between the bounds set."
      ],
      "metadata": {
        "id": "-rPAxpu78zG5"
      }
    },
    {
      "cell_type": "code",
      "source": [
        "import random"
      ],
      "metadata": {
        "id": "2X6_e8wO9yGA"
      },
      "execution_count": null,
      "outputs": []
    },
    {
      "cell_type": "code",
      "source": [
        "random.uniform(-0.05, 0.05)"
      ],
      "metadata": {
        "colab": {
          "base_uri": "https://localhost:8080/"
        },
        "id": "TQ1DQc8W-MzZ",
        "outputId": "c6283179-3195-40fd-d0db-4c8664fa1191"
      },
      "execution_count": null,
      "outputs": [
        {
          "output_type": "execute_result",
          "data": {
            "text/plain": [
              "0.030157414641067568"
            ]
          },
          "metadata": {},
          "execution_count": 37
        }
      ]
    },
    {
      "cell_type": "code",
      "source": [
        "# Create the stock value historic price for a given number of days using a for loop and random.uniform.\n",
        "\n",
        "days = int(365 * 0.05) # The simulation is only considering a period of 18 days (5% of the total days in a year)\n",
        "growth_rate = []\n",
        "for _ in range(days):\n",
        "    growth_rate.append(random.uniform(-0.08, 0.08))\n",
        "\n",
        "growth_rate"
      ],
      "metadata": {
        "colab": {
          "base_uri": "https://localhost:8080/"
        },
        "id": "_Ve-NNNn9NxT",
        "outputId": "0660488f-d840-4aa9-a211-5c99d1dec961"
      },
      "execution_count": null,
      "outputs": [
        {
          "output_type": "execute_result",
          "data": {
            "text/plain": [
              "[0.009049380678744778,\n",
              " -0.07017580872451347,\n",
              " 0.051076802070252655,\n",
              " 0.010362342570487626,\n",
              " 0.0019511496006780205,\n",
              " 0.03230315445660016,\n",
              " 0.07035265795852617,\n",
              " -0.008883986296388702,\n",
              " -0.047613795905219476,\n",
              " -0.07396114386774448,\n",
              " 0.0658857872073099,\n",
              " 0.018968073246695208,\n",
              " -0.06807066259268321,\n",
              " 0.029257925255080808,\n",
              " -0.011477335427296648,\n",
              " -0.04556724434561829,\n",
              " -0.06796840452160169,\n",
              " -0.04253223003533167]"
            ]
          },
          "metadata": {},
          "execution_count": 43
        }
      ]
    },
    {
      "cell_type": "markdown",
      "source": [
        "###Excercise\n",
        "\n",
        "Now, given an initial value (the initial stock price), calculate the stock price for each day using the growth rate list.\n",
        "\n",
        "Also, provide an initial budget of 100USD, which is the amount of money you are going to spend on the stock, and calculate the value of the investment.\n",
        "\n",
        "Finally, if the growth rate on a certain day is greater than a 5% threshold, buy 200 of the stock. If the growth rate is lower, sell 50 of it.\n",
        "\n",
        "**Print the results of your growht rate, your historic stock price and your historic investment**\n",
        "\n",
        "**Note:** You should be able to do all of this in a single for loop."
      ],
      "metadata": {
        "id": "ADx7_RvTAgTQ"
      }
    },
    {
      "cell_type": "code",
      "source": [
        "threshold = # Your code goes here\n",
        "investment = # Your code goes here\n",
        "stock_price = 250\n",
        "\n",
        "historic_investment = []\n",
        "historic_stock_price = []\n",
        "\n",
        "for growth in growth_rate:\n",
        "    historic_stock_price.append(stock_price)\n",
        "    # Append the stock_price value to the list and get the new stock price\n",
        "    stock_price += stock_price * growth\n",
        "\n",
        "    # Append the investment value to the list and get the new investment value\n",
        "    historic_investment.append(investment)\n",
        "\n",
        "    if growth > threshold:\n",
        "        # Buy more stock\n",
        "        investment += # Your code goes here (e.g., fixed amount to buy)\n",
        "    elif growth < threshold:\n",
        "        # Sell stock\n",
        "        investment -= # Your code goes here (e.g., fixed amount to sell)"
      ],
      "metadata": {
        "id": "EoiEUhwKgdMH"
      },
      "execution_count": null,
      "outputs": []
    },
    {
      "cell_type": "code",
      "source": [
        "#@title Solution\n",
        "threshold = 0.05 # Growth of 5%\n",
        "investment = 100\n",
        "stock_price = 250\n",
        "\n",
        "historic_investment = []\n",
        "historic_stock_price = []\n",
        "\n",
        "for growth in growth_rate:\n",
        "    historic_stock_price.append(stock_price)\n",
        "    # Append the stock_price value to the list and get the new stock price\n",
        "    stock_price += growth * stock_price\n",
        "\n",
        "    # Append the investment value to the list and get the new investment value\n",
        "    historic_investment.append(investment)\n",
        "    investment += growth * investment\n",
        "\n",
        "    if growth > threshold:\n",
        "        # Buy more stock\n",
        "        investment += 200\n",
        "    elif growth < threshold:\n",
        "        # Sell some stock\n",
        "        investment -= 50"
      ],
      "metadata": {
        "id": "mX6JlVwx_HUD"
      },
      "execution_count": null,
      "outputs": []
    },
    {
      "cell_type": "code",
      "source": [
        "print(growth_rate)"
      ],
      "metadata": {
        "colab": {
          "base_uri": "https://localhost:8080/"
        },
        "id": "HJpTqc63L1wA",
        "outputId": "cde8f2c0-1810-44d6-8dc3-f89d2678b66e"
      },
      "execution_count": null,
      "outputs": [
        {
          "output_type": "stream",
          "name": "stdout",
          "text": [
            "[0.009049380678744778, -0.07017580872451347, 0.051076802070252655, 0.010362342570487626, 0.0019511496006780205, 0.03230315445660016, 0.07035265795852617, -0.008883986296388702, -0.047613795905219476, -0.07396114386774448, 0.0658857872073099, 0.018968073246695208, -0.06807066259268321, 0.029257925255080808, -0.011477335427296648, -0.04556724434561829, -0.06796840452160169, -0.04253223003533167]\n"
          ]
        }
      ]
    },
    {
      "cell_type": "code",
      "source": [
        "print(historic_stock_price)"
      ],
      "metadata": {
        "colab": {
          "base_uri": "https://localhost:8080/"
        },
        "id": "nBSIn2uUBfhU",
        "outputId": "7056a749-b2af-4f7b-8534-59d83bbc21b1"
      },
      "execution_count": null,
      "outputs": [
        {
          "output_type": "stream",
          "name": "stdout",
          "text": [
            "[250, 252.2623451696862, 234.5596310866611, 246.540186937346, 249.09492081178283, 249.58094226705566, 257.64319399453217, 275.7690774969717, 273.31914879152083, 260.30538662397305, 241.05290247432853, 256.93486271245655, 261.808422008016, 243.98694924958554, 251.1255011739451, 248.24324956262376, 236.9314887526534, 220.82763348120773]\n"
          ]
        }
      ]
    },
    {
      "cell_type": "code",
      "source": [
        "print(historic_investment)"
      ],
      "metadata": {
        "colab": {
          "base_uri": "https://localhost:8080/"
        },
        "id": "6y6R_j2yBg1J",
        "outputId": "06ecc5f2-70b3-48ac-fc25-6cc1c89fab48"
      },
      "execution_count": null,
      "outputs": [
        {
          "output_type": "stream",
          "name": "stdout",
          "text": [
            "[100, 50.90493806787448, -2.667357129109881, 197.19640279875588, 149.23981947822446, 99.53100869240467, 52.74617423941663, 256.45700779430314, 204.1786472514457, 144.45692681301156, 83.77272726630218, 289.29215934874577, 244.7794742169674, 178.1171732179298, 133.32851215858628, 81.79825610251979, 28.0709349796508, -23.837001684345683]\n"
          ]
        }
      ]
    },
    {
      "cell_type": "code",
      "source": [
        "import matplotlib.pyplot as plt\n",
        "\n",
        "plt.plot(historic_investment)\n",
        "plt.show()"
      ],
      "metadata": {
        "id": "-2uuLyHRMILT",
        "colab": {
          "base_uri": "https://localhost:8080/",
          "height": 430
        },
        "outputId": "8796246e-7040-4126-946d-4b4e6851c3b7"
      },
      "execution_count": null,
      "outputs": [
        {
          "output_type": "display_data",
          "data": {
            "text/plain": [
              "<Figure size 640x480 with 1 Axes>"
            ],
            "image/png": "[encoded data removed]"
          },
          "metadata": {}
        }
      ]
    },
    {
      "cell_type": "code",
      "source": [
        "plt.plot(historic_investment)\n",
        "plt.title(\"Historical Investment Value\")\n",
        "plt.xlabel(\"Days\")\n",
        "plt.ylabel(\"Investment Value\")\n",
        "plt.show()"
      ],
      "metadata": {
        "id": "kgdGfQt8DenV",
        "outputId": "b520a7cc-0d94-460e-ac49-d18e96c29252",
        "colab": {
          "base_uri": "https://localhost:8080/",
          "height": 472
        }
      },
      "execution_count": null,
      "outputs": [
        {
          "output_type": "display_data",
          "data": {
            "text/plain": [
              "<Figure size 640x480 with 1 Axes>"
            ],
            "image/png": "[encoded data removed]"
          },
          "metadata": {}
        }
      ]
    }
  ]
}